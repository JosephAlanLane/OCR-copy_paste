{
 "cells": [
  {
   "cell_type": "code",
   "execution_count": null,
   "id": "3dc7c7bf",
   "metadata": {},
   "outputs": [],
   "source": [
    "import sys\n",
    "\n",
    "# Redirect stdout and stderr to a file\n",
    "sys.stdout = open('output.log', 'w')\n",
    "sys.stderr = open('error.log', 'w')\n",
    "\n",
    "import pytesseract   \n",
    "pytesseract.pytesseract.tesseract_cmd = r'C:\\Program Files\\Tesseract-OCR\\tesseract.exe'\n",
    "\n",
    "from PIL import ImageGrab, Image\n",
    "import pyperclip\n",
    "import keyboard\n",
    "\n",
    "def process_clipboard_image():\n",
    "    img = ImageGrab.grabclipboard()\n",
    "    \n",
    "    # Convert the image to text using Tesseract OCR\n",
    "    # Set the Tesseract executable path\n",
    "\n",
    "    extracted_text = pytesseract.image_to_string(img)\n",
    "    \n",
    "    # Put extracted text back into clipboard\n",
    "    extracted_text = extracted_text.replace('‘','\\'').replace('’','\\'')\n",
    "    pyperclip.copy(extracted_text)\n",
    "\n",
    "# press ctrl+shift+q to print \"Hotkey Detected\"\n",
    "keyboard.add_hotkey('ctrl + shift + q', process_clipboard_image)\n",
    "keyboard.wait('esc')"
   ]
  }
 ],
 "metadata": {
  "kernelspec": {
   "display_name": "Python 3 (ipykernel)",
   "language": "python",
   "name": "python3"
  },
  "language_info": {
   "codemirror_mode": {
    "name": "ipython",
    "version": 3
   },
   "file_extension": ".py",
   "mimetype": "text/x-python",
   "name": "python",
   "nbconvert_exporter": "python",
   "pygments_lexer": "ipython3",
   "version": "3.10.7"
  }
 },
 "nbformat": 4,
 "nbformat_minor": 5
}
