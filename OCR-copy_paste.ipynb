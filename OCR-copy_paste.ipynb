import sys

# Redirect stdout and stderr to a file
sys.stdout = open('output.log', 'w')
sys.stderr = open('error.log', 'w')

import pytesseract   
pytesseract.pytesseract.tesseract_cmd = r'C:\Program Files\Tesseract-OCR\tesseract.exe'

from PIL import ImageGrab, Image
import pyperclip
import keyboard

def process_clipboard_image():
    img = ImageGrab.grabclipboard()
    
    # Convert the image to text using Tesseract OCR
    # Set the Tesseract executable path

    extracted_text = pytesseract.image_to_string(img)
    
    # Put extracted text back into clipboard
    extracted_text = extracted_text.replace('‘','\'').replace('’','\'')
    pyperclip.copy(extracted_text)

# press ctrl+shift+q to print "Hotkey Detected"
keyboard.add_hotkey('ctrl + shift + q', process_clipboard_image)
keyboard.wait('esc')
